{
    "cells": [
        {
            "metadata": {},
            "cell_type": "markdown",
            "source": "###                                                          A description of the problem."
        },
        {
            "metadata": {},
            "cell_type": "markdown",
            "source": "---"
        },
        {
            "metadata": {
                "collapsed": true
            },
            "cell_type": "markdown",
            "source": "\nDiversity has played a huge role in the modern world and work productivity is essential for organisations to keep up with the ever changing pace in economic development. Companies encourage their workforce to live a healthy lifestyle and since time is of the essence, any individual will try to maximise every minute spent whilst on and off duty. \nDiversity plays a huge factor in operating a restaurant. You don't have to be in China to have a Chinese meal or India for an Indian meal or Africa for an African meal. You can literally find a spot to fine dine in Toronto or New York, offering the best intercontinental meal. It is common for people to relocate from one country/city to other across the world for personal reasons however, finding or choosing the best location or neighbourhood can prove challenging at times. Reasons can  be of one or more of the following: Job availability, safety and security, housing, social amenities, diversity, and many more.\nChoosing a location for your restaurant is one of just a few keys to profitability. Parking and accessibility can be as crucial to a restaurant's success as great food and service. A restaurant's location influences many aspects of your operation, including the menu and style of the dining room. Factors such as:\n"
        },
        {
            "metadata": {},
            "cell_type": "markdown",
            "source": "- Population Base: Volume of people in the Location\nLooking at the 2 City locations- New York and Toronto, both cities are famous but NY has a \tmore pronounced multicultural neighbourhood than Toronto but Toronto is more subtle.\n"
        },
        {
            "metadata": {},
            "cell_type": "markdown",
            "source": "- Visibility: Visibility of the proposed restaurant structure.\nAnother factor to consider as patronisers of the restaurant have to see the \tstructure for easy recollection and direction description to strangers has to be relatively \tstraight forward. Both locations meet this criteria."
        },
        {
            "metadata": {},
            "cell_type": "markdown",
            "source": "- Accessibility: Is the restaurant easily accessible?\nAccessibility is another factor that can persuade/attract customers. A good accessible \trestaurant with great menu has a huge selling point.\n"
        },
        {
            "metadata": {},
            "cell_type": "markdown",
            "source": "- Infrastructure: Parking, closest landmark, proximity to other places.\nInfrastructure: car park, proximity to other shops, stores, theatre or event centres is definitely \ta pronounced factor leading to extended opening times for restaurant."
        },
        {
            "metadata": {},
            "cell_type": "markdown",
            "source": "By comparison, both locations offer similar solutions but a closer look at the neighbourhood shows New York is rougher than Toronto. Hence Toronto will be a perfect choice for a restaurant.\nFoursquare will be used to gather the restaurant locations to analyze in both cities. \nThe applicable link of the data can be viewed using the link below:"
        },
        {
            "metadata": {},
            "cell_type": "markdown",
            "source": "[The Battle of Neighborhoods - New York City and Toronto](https://eu-gb.dataplatform.cloud.ibm.com/analytics/notebooks/v2/13d3a151-a2ad-424c-946a-daaacb2537d2/view?access_token=a45bf9579a2527c9c14c41d91eaaa8488ef04c94c780f7764e3a7aa90fa06a51)"
        },
        {
            "metadata": {},
            "cell_type": "markdown",
            "source": "                                                                                                       [Blazin-Teej\u00a9]\n                                                                                                           \u30c3"
        }
    ],
    "metadata": {
        "kernelspec": {
            "name": "python3",
            "display_name": "Python 3.6",
            "language": "python"
        },
        "language_info": {
            "name": "python",
            "version": "3.6.9",
            "mimetype": "text/x-python",
            "codemirror_mode": {
                "name": "ipython",
                "version": 3
            },
            "pygments_lexer": "ipython3",
            "nbconvert_exporter": "python",
            "file_extension": ".py"
        }
    },
    "nbformat": 4,
    "nbformat_minor": 1
}